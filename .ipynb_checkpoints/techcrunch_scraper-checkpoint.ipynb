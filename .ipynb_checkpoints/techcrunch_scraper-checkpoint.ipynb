{
 "cells": [
  {
   "cell_type": "code",
   "execution_count": 1,
   "metadata": {},
   "outputs": [],
   "source": [
    "from bs4 import BeautifulSoup\n",
    "import requests\n",
    "import pandas as pd"
   ]
  },
  {
   "cell_type": "code",
   "execution_count": 2,
   "metadata": {},
   "outputs": [],
   "source": [
    "def get_text(url):\n",
    "    i = 1\n",
    "    while True:\n",
    "        new_url = url.replace('1', str(i))\n",
    "        r = requests.get(new_url)\n",
    "        if r.status_code != 404:\n",
    "            yield r.text\n",
    "            if i % 10 == 0 or i == 1:\n",
    "                print('Yield Page %d.' %i)\n",
    "            i += 1\n",
    "        else:\n",
    "            print(\"Return 404.\")\n",
    "            break"
   ]
  },
  {
   "cell_type": "code",
   "execution_count": 3,
   "metadata": {},
   "outputs": [],
   "source": [
    "def get_article(article_url):\n",
    "    article_page = requests.get(article_url).text\n",
    "    article_soup = BeautifulSoup(article_page, 'html.parser')\n",
    "    div = article_soup.find('div','article-entry text')\n",
    "    try:\n",
    "        content = div.get_text()[2:]\n",
    "    except:\n",
    "        content = 'CONTENT ERROR'\n",
    "    return content"
   ]
  },
  {
   "cell_type": "code",
   "execution_count": 4,
   "metadata": {},
   "outputs": [],
   "source": [
    "def update_list(page, title_list, url_list, date_list, content_list):\n",
    "    tag_soup = BeautifulSoup(page, 'html.parser')\n",
    "    for link_code in tag_soup.find_all('h2', \"post-title\"):\n",
    "        article_title = link_code.get_text().replace('\\xa0', ' ')\n",
    "        article_url = link_code.a.get('href')\n",
    "        article_content = get_article(article_url)\n",
    "        article_date = article_url[23:33]\n",
    "        \n",
    "        title_list.append(article_title)\n",
    "        url_list.append(article_url)\n",
    "        date_list.append(article_date)\n",
    "        content_list.append(article_content)"
   ]
  },
  {
   "cell_type": "code",
   "execution_count": 5,
   "metadata": {},
   "outputs": [],
   "source": [
    "def update_df(df, url):\n",
    "    title_list = []\n",
    "    url_list = []\n",
    "    date_list = []\n",
    "    content_list = []\n",
    "    \n",
    "    for page in get_text(url):\n",
    "        update_list(page, title_list, url_list, date_list, content_list)\n",
    "    df['title'] = title_list\n",
    "    df['url'] = url_list\n",
    "    df['date'] = date_list\n",
    "    df['content'] = content_list"
   ]
  },
  {
   "cell_type": "code",
   "execution_count": 6,
   "metadata": {},
   "outputs": [],
   "source": [
    "def output(tag, filename):\n",
    "    data = pd.DataFrame(columns=['title', 'url', 'date', 'content'])\n",
    "    url = 'https://techcrunch.com/' + tag + '/page/1/'\n",
    "    update_df(data, url)\n",
    "    name = tag + '_data.csv'\n",
    "    data.to_csv(filename + '.csv')\n",
    "    print('Compelete.')"
   ]
  },
  {
   "cell_type": "code",
   "execution_count": null,
   "metadata": {},
   "outputs": [],
   "source": [
    "output('greentech') # https://techcrunch.com/greentech/"
   ]
  },
  {
   "cell_type": "code",
   "execution_count": null,
   "metadata": {},
   "outputs": [],
   "source": [
    "output('artificial-intelligence-2') # https://techcrunch.com/artificial-intelligence-2/"
   ]
  },
  {
   "cell_type": "code",
   "execution_count": null,
   "metadata": {},
   "outputs": [],
   "source": [
    "output('tag/energy', 'energy') # https://techcrunch.com/tag/energy/"
   ]
  },
  {
   "cell_type": "code",
   "execution_count": 7,
   "metadata": {},
   "outputs": [
    {
     "name": "stdout",
     "output_type": "stream",
     "text": [
      "Yield Page 1.\n",
      "Return 404.\n",
      "Compelete.\n"
     ]
    }
   ],
   "source": [
    "output('tag/battery', 'battery')# https://techcrunch.com/tag/battery/"
   ]
  },
  {
   "cell_type": "code",
   "execution_count": 8,
   "metadata": {},
   "outputs": [
    {
     "name": "stdout",
     "output_type": "stream",
     "text": [
      "Yield Page 1.\n",
      "Return 404.\n",
      "Compelete.\n"
     ]
    }
   ],
   "source": [
    "output('tag/fuel-cell', 'fuel-cell') # https://techcrunch.com/tag/fuel-cell/"
   ]
  }
 ],
 "metadata": {
  "kernelspec": {
   "display_name": "Python 3",
   "language": "python",
   "name": "python3"
  },
  "language_info": {
   "codemirror_mode": {
    "name": "ipython",
    "version": 3
   },
   "file_extension": ".py",
   "mimetype": "text/x-python",
   "name": "python",
   "nbconvert_exporter": "python",
   "pygments_lexer": "ipython3",
   "version": "3.6.1"
  }
 },
 "nbformat": 4,
 "nbformat_minor": 2
}
