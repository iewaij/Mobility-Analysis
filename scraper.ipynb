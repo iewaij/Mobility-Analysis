{
 "cells": [
  {
   "cell_type": "code",
   "execution_count": 2,
   "metadata": {},
   "outputs": [],
   "source": [
    "from bs4 import BeautifulSoup\n",
    "import requests\n",
    "import pandas as pd"
   ]
  },
  {
   "cell_type": "code",
   "execution_count": 57,
   "metadata": {},
   "outputs": [],
   "source": [
    "def get_text(url):\n",
    "    r = requests.get(url)\n",
    "    return r.text\n",
    "url = 'https://techcrunch.com/tag/automotive/page/1/'\n",
    "tag_page = get_text(url)"
   ]
  },
  {
   "cell_type": "code",
   "execution_count": 50,
   "metadata": {},
   "outputs": [],
   "source": [
    "tag_soup = BeautifulSoup(tag_page, 'html.parser')\n",
    "data = pd.DataFrame(columns=['title', 'url', 'date', 'content'])\n",
    "title_list = []\n",
    "url_list = []\n",
    "for link_code in tag_soup.find_all('h2', \"post-title\"):\n",
    "    title_list.append(link_code.get_text().replace('\\xa0', ' '))\n",
    "    url_list.append(link_code.a.get('href'))"
   ]
  },
  {
   "cell_type": "code",
   "execution_count": 52,
   "metadata": {},
   "outputs": [],
   "source": [
    "data['url'] = url_list\n",
    "data['title'] = title_list"
   ]
  },
  {
   "cell_type": "code",
   "execution_count": 75,
   "metadata": {},
   "outputs": [],
   "source": [
    "for i in data.index:\n",
    "    article_url = data['url'][i]\n",
    "    article_page = get_text(article_url)\n",
    "    article_soup = BeautifulSoup(article_page, 'html.parser')\n",
    "    div = article_soup.find('div','article-entry text')\n",
    "    content = div.get_text()\n",
    "    data.loc[i, 'content'] = content[3:]\n",
    "    data.loc[i, 'date'] = data.loc[i, 'url'][23:33]"
   ]
  },
  {
   "cell_type": "code",
   "execution_count": 82,
   "metadata": {},
   "outputs": [],
   "source": [
    "data.to_csv('article.csv')"
   ]
  }
 ],
 "metadata": {
  "kernelspec": {
   "display_name": "Python 3",
   "language": "python",
   "name": "python3"
  },
  "language_info": {
   "codemirror_mode": {
    "name": "ipython",
    "version": 3
   },
   "file_extension": ".py",
   "mimetype": "text/x-python",
   "name": "python",
   "nbconvert_exporter": "python",
   "pygments_lexer": "ipython3",
   "version": "3.6.1"
  }
 },
 "nbformat": 4,
 "nbformat_minor": 2
}
